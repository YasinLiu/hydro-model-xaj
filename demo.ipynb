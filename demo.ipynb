{
 "cells": [
  {
   "cell_type": "code",
   "execution_count": 17,
   "metadata": {},
   "outputs": [],
   "source": [
    "import numpy as np\n",
    "import pandas as pd\n",
    "import pickle\n",
    "import matplotlib.pyplot as plt\n",
    "import seaborn as sns\n",
    "\n",
    "sns.set()"
   ]
  },
  {
   "cell_type": "markdown",
   "metadata": {},
   "source": [
    "### １．雨量数据"
   ]
  },
  {
   "cell_type": "code",
   "execution_count": 5,
   "metadata": {},
   "outputs": [
    {
     "data": {
      "text/html": [
       "<div>\n",
       "<style scoped>\n",
       "    .dataframe tbody tr th:only-of-type {\n",
       "        vertical-align: middle;\n",
       "    }\n",
       "\n",
       "    .dataframe tbody tr th {\n",
       "        vertical-align: top;\n",
       "    }\n",
       "\n",
       "    .dataframe thead th {\n",
       "        text-align: right;\n",
       "    }\n",
       "</style>\n",
       "<table border=\"1\" class=\"dataframe\">\n",
       "  <thead>\n",
       "    <tr style=\"text-align: right;\">\n",
       "      <th></th>\n",
       "      <th>flood_precip</th>\n",
       "    </tr>\n",
       "    <tr>\n",
       "      <th>flood_date</th>\n",
       "      <th></th>\n",
       "    </tr>\n",
       "  </thead>\n",
       "  <tbody>\n",
       "    <tr>\n",
       "      <th>2018-08-06 08:00:00</th>\n",
       "      <td>0.0</td>\n",
       "    </tr>\n",
       "    <tr>\n",
       "      <th>2018-08-06 09:00:00</th>\n",
       "      <td>0.0</td>\n",
       "    </tr>\n",
       "    <tr>\n",
       "      <th>2018-08-06 10:00:00</th>\n",
       "      <td>0.0</td>\n",
       "    </tr>\n",
       "    <tr>\n",
       "      <th>2018-08-06 11:00:00</th>\n",
       "      <td>0.0</td>\n",
       "    </tr>\n",
       "  </tbody>\n",
       "</table>\n",
       "</div>"
      ],
      "text/plain": [
       "                     flood_precip\n",
       "flood_date                       \n",
       "2018-08-06 08:00:00           0.0\n",
       "2018-08-06 09:00:00           0.0\n",
       "2018-08-06 10:00:00           0.0\n",
       "2018-08-06 11:00:00           0.0"
      ]
     },
     "execution_count": 5,
     "metadata": {},
     "output_type": "execute_result"
    }
   ],
   "source": [
    "precipitation = pd.read_excel('XAJ_data_demo.xlsx', header=None, index_col=0)\n",
    "\n",
    "precipitation.columns = ['flood_precip'] # 设置列名称\n",
    "\n",
    "precipitation.index = precipitation.index.set_names(['flood_date']) # 设置index名字\n",
    "precipitation[:4]"
   ]
  },
  {
   "cell_type": "markdown",
   "metadata": {},
   "source": [
    "### ２．流量数据整理"
   ]
  },
  {
   "cell_type": "code",
   "execution_count": 22,
   "metadata": {},
   "outputs": [],
   "source": [
    "discharge_1 = pd.read_excel('discharge_demo.xls', index_col='TM')"
   ]
  },
  {
   "cell_type": "code",
   "execution_count": 6,
   "metadata": {},
   "outputs": [
    {
     "data": {
      "text/html": [
       "<div>\n",
       "<style scoped>\n",
       "    .dataframe tbody tr th:only-of-type {\n",
       "        vertical-align: middle;\n",
       "    }\n",
       "\n",
       "    .dataframe tbody tr th {\n",
       "        vertical-align: top;\n",
       "    }\n",
       "\n",
       "    .dataframe thead th {\n",
       "        text-align: right;\n",
       "    }\n",
       "</style>\n",
       "<table border=\"1\" class=\"dataframe\">\n",
       "  <thead>\n",
       "    <tr style=\"text-align: right;\">\n",
       "      <th></th>\n",
       "      <th>Q</th>\n",
       "    </tr>\n",
       "    <tr>\n",
       "      <th>TM</th>\n",
       "      <th></th>\n",
       "    </tr>\n",
       "  </thead>\n",
       "  <tbody>\n",
       "    <tr>\n",
       "      <th>2018-08-06 08:00:00</th>\n",
       "      <td>757.486</td>\n",
       "    </tr>\n",
       "    <tr>\n",
       "      <th>2018-08-06 09:00:00</th>\n",
       "      <td>744.343</td>\n",
       "    </tr>\n",
       "    <tr>\n",
       "      <th>2018-08-06 10:00:00</th>\n",
       "      <td>720.686</td>\n",
       "    </tr>\n",
       "    <tr>\n",
       "      <th>2018-08-06 11:00:00</th>\n",
       "      <td>710.171</td>\n",
       "    </tr>\n",
       "  </tbody>\n",
       "</table>\n",
       "</div>"
      ],
      "text/plain": [
       "                           Q\n",
       "TM                          \n",
       "2018-08-06 08:00:00  757.486\n",
       "2018-08-06 09:00:00  744.343\n",
       "2018-08-06 10:00:00  720.686\n",
       "2018-08-06 11:00:00  710.171"
      ]
     },
     "execution_count": 6,
     "metadata": {},
     "output_type": "execute_result"
    }
   ],
   "source": [
    "discharge = pd.read_excel('discharge_demo.xls', index_col='TM')\n",
    "# 按每５分钟重采样并对NaN数据进行前向填充\n",
    "discharge = discharge.resample('5min').asfreq().fillna(method='ffill')\n",
    "discharge = discharge.resample('h').asfreq()  # 取整点数据\n",
    "discharge[:4]"
   ]
  },
  {
   "cell_type": "markdown",
   "metadata": {},
   "source": [
    "### ３．洪峰选取"
   ]
  },
  {
   "cell_type": "code",
   "execution_count": 37,
   "metadata": {},
   "outputs": [
    {
     "name": "stdout",
     "output_type": "stream",
     "text": [
      "Using matplotlib backend: Qt5Agg\n"
     ]
    }
   ],
   "source": [
    "%matplotlib"
   ]
  },
  {
   "cell_type": "code",
   "execution_count": 24,
   "metadata": {},
   "outputs": [],
   "source": [
    "runoff = discharge['20180807 03:00': '20180807 18:00']"
   ]
  },
  {
   "cell_type": "code",
   "execution_count": 25,
   "metadata": {},
   "outputs": [],
   "source": [
    "# 获取头尾两个流量\n",
    "temp = runoff.drop(runoff.index[1:runoff.shape[0]-1])\n",
    "# 生成基流\n",
    "discharge_basic = temp.resample('h').interpolate(method='linear')"
   ]
  },
  {
   "cell_type": "code",
   "execution_count": 38,
   "metadata": {},
   "outputs": [
    {
     "name": "stdout",
     "output_type": "stream",
     "text": [
      "<class 'pandas.core.frame.DataFrame'>\n",
      "DatetimeIndex: 2 entries, 2018-08-07 03:00:00 to 2018-08-07 18:00:00\n",
      "Data columns (total 1 columns):\n",
      "Q    2 non-null float64\n",
      "dtypes: float64(1)\n",
      "memory usage: 112.0 bytes\n"
     ]
    }
   ],
   "source": [
    "temp.info()"
   ]
  },
  {
   "cell_type": "code",
   "execution_count": 9,
   "metadata": {},
   "outputs": [],
   "source": [
    "import matplotlib.pyplot as plt"
   ]
  },
  {
   "cell_type": "code",
   "execution_count": 10,
   "metadata": {},
   "outputs": [
    {
     "data": {
      "image/png": "[encoded data removed]",
      "text/plain": [
       "<Figure size 432x288 with 1 Axes>"
      ]
     },
     "metadata": {
      "needs_background": "light"
     },
     "output_type": "display_data"
    }
   ],
   "source": [
    "plt.plot(discharge.index, discharge.values)\n",
    "plt.plot(discharge_basic.index, discharge_basic.values)\n",
    "plt.grid(True)\n",
    "plt.show()"
   ]
  },
  {
   "cell_type": "code",
   "execution_count": 11,
   "metadata": {},
   "outputs": [
    {
     "data": {
      "text/plain": [
       "<matplotlib.axes._subplots.AxesSubplot at 0x7f8ee0e66208>"
      ]
     },
     "execution_count": 11,
     "metadata": {},
     "output_type": "execute_result"
    },
    {
     "data": {
      "image/png": "[encoded data removed]",
      "text/plain": [
       "<Figure size 432x288 with 1 Axes>"
      ]
     },
     "metadata": {
      "needs_background": "light"
     },
     "output_type": "display_data"
    }
   ],
   "source": [
    "flood = runoff - discharge_basic\n",
    "flood.columns = ['flood_quant']\n",
    "flood.index = flood.index.set_names('flood_date')\n",
    "flood.plot(grid=True)"
   ]
  },
  {
   "cell_type": "markdown",
   "metadata": {},
   "source": [
    "### 4. 合并流量和雨量"
   ]
  },
  {
   "cell_type": "code",
   "execution_count": 12,
   "metadata": {},
   "outputs": [],
   "source": [
    "flood_p = pd.merge(precipitation, flood, how='left', left_index=True, right_index=True).fillna(0)\n",
    "# flood_p.plot(grid=True)\n",
    "\n",
    "flood_p['flood_date'] = flood_p.index\n",
    "flood_p['flood_id'] = '20180807'\n",
    "flood_p['flood_evapor'] = 0\n",
    "flood_p.reset_index(drop=True, inplace=True)\n",
    "flood_p = flood_p[['flood_id', 'flood_date', 'flood_precip', 'flood_quant', 'flood_evapor']]\n",
    "flood_p['flood_quant'] = flood_p['flood_quant'].map('{:.1f}'.format)"
   ]
  },
  {
   "cell_type": "code",
   "execution_count": 13,
   "metadata": {},
   "outputs": [
    {
     "name": "stderr",
     "output_type": "stream",
     "text": [
      "/home/yasin/anaconda3/lib/python3.7/site-packages/pandas/core/frame.py:3697: SettingWithCopyWarning: \n",
      "A value is trying to be set on a copy of a slice from a DataFrame\n",
      "\n",
      "See the caveats in the documentation: http://pandas.pydata.org/pandas-docs/stable/indexing.html#indexing-view-versus-copy\n",
      "  errors=errors)\n"
     ]
    },
    {
     "data": {
      "text/html": [
       "<div>\n",
       "<style scoped>\n",
       "    .dataframe tbody tr th:only-of-type {\n",
       "        vertical-align: middle;\n",
       "    }\n",
       "\n",
       "    .dataframe tbody tr th {\n",
       "        vertical-align: top;\n",
       "    }\n",
       "\n",
       "    .dataframe thead th {\n",
       "        text-align: right;\n",
       "    }\n",
       "</style>\n",
       "<table border=\"1\" class=\"dataframe\">\n",
       "  <thead>\n",
       "    <tr style=\"text-align: right;\">\n",
       "      <th></th>\n",
       "      <th>flood_id</th>\n",
       "      <th>day_date</th>\n",
       "      <th>day_precip</th>\n",
       "      <th>day_evapor</th>\n",
       "    </tr>\n",
       "  </thead>\n",
       "  <tbody>\n",
       "    <tr>\n",
       "      <th>0</th>\n",
       "      <td>20180807</td>\n",
       "      <td>2018-08-06 08:00:00</td>\n",
       "      <td>0.0</td>\n",
       "      <td>0</td>\n",
       "    </tr>\n",
       "    <tr>\n",
       "      <th>1</th>\n",
       "      <td>20180807</td>\n",
       "      <td>2018-08-06 09:00:00</td>\n",
       "      <td>0.0</td>\n",
       "      <td>0</td>\n",
       "    </tr>\n",
       "    <tr>\n",
       "      <th>2</th>\n",
       "      <td>20180807</td>\n",
       "      <td>2018-08-06 10:00:00</td>\n",
       "      <td>0.0</td>\n",
       "      <td>0</td>\n",
       "    </tr>\n",
       "    <tr>\n",
       "      <th>3</th>\n",
       "      <td>20180807</td>\n",
       "      <td>2018-08-06 11:00:00</td>\n",
       "      <td>0.0</td>\n",
       "      <td>0</td>\n",
       "    </tr>\n",
       "  </tbody>\n",
       "</table>\n",
       "</div>"
      ],
      "text/plain": [
       "   flood_id            day_date  day_precip  day_evapor\n",
       "0  20180807 2018-08-06 08:00:00         0.0           0\n",
       "1  20180807 2018-08-06 09:00:00         0.0           0\n",
       "2  20180807 2018-08-06 10:00:00         0.0           0\n",
       "3  20180807 2018-08-06 11:00:00         0.0           0"
      ]
     },
     "execution_count": 13,
     "metadata": {},
     "output_type": "execute_result"
    }
   ],
   "source": [
    "pre_rain = flood_p[:11]\n",
    "pre_rain[:4]\n",
    "\n",
    "pre_rain.drop(columns='flood_quant', inplace=True)\n",
    "pre_rain.columns = ['flood_id', 'day_date', 'day_precip', 'day_evapor']\n",
    "pre_rain.to_csv('pre_rain.txt', sep='\\t', index=None)\n",
    "pre_rain[:4]"
   ]
  },
  {
   "cell_type": "code",
   "execution_count": 14,
   "metadata": {},
   "outputs": [],
   "source": [
    "flood_p = flood_p[11:]\n",
    "flood_p.to_csv('flood.txt', sep='\\t', index=None)"
   ]
  },
  {
   "cell_type": "code",
   "execution_count": 18,
   "metadata": {},
   "outputs": [
    {
     "name": "stdout",
     "output_type": "stream",
     "text": [
      "pre_rain.shape: (11, 4)\n",
      "flood_p.shape: (44, 5)\n"
     ]
    }
   ],
   "source": [
    "print('pre_rain.shape: {}\\nflood_p.shape: {}'.format(pre_rain.shape, flood_p.shape))"
   ]
  },
  {
   "cell_type": "code",
   "execution_count": 19,
   "metadata": {},
   "outputs": [],
   "source": [
    "import pickle"
   ]
  },
  {
   "cell_type": "markdown",
   "metadata": {},
   "source": [
    "#### 可视化验证数据"
   ]
  },
  {
   "cell_type": "code",
   "execution_count": 20,
   "metadata": {},
   "outputs": [
    {
     "data": {
      "text/html": [
       "<div>\n",
       "<style scoped>\n",
       "    .dataframe tbody tr th:only-of-type {\n",
       "        vertical-align: middle;\n",
       "    }\n",
       "\n",
       "    .dataframe tbody tr th {\n",
       "        vertical-align: top;\n",
       "    }\n",
       "\n",
       "    .dataframe thead th {\n",
       "        text-align: right;\n",
       "    }\n",
       "</style>\n",
       "<table border=\"1\" class=\"dataframe\">\n",
       "  <thead>\n",
       "    <tr style=\"text-align: right;\">\n",
       "      <th></th>\n",
       "      <th>flood_id</th>\n",
       "      <th>flood_date</th>\n",
       "      <th>flood_precip</th>\n",
       "      <th>flood_quant</th>\n",
       "      <th>flood_evapor</th>\n",
       "      <th>simulated_flow</th>\n",
       "    </tr>\n",
       "  </thead>\n",
       "  <tbody>\n",
       "    <tr>\n",
       "      <th>11</th>\n",
       "      <td>20180807</td>\n",
       "      <td>2018-08-06 19:00:00</td>\n",
       "      <td>0.0</td>\n",
       "      <td>0.0</td>\n",
       "      <td>0</td>\n",
       "      <td>0.0</td>\n",
       "    </tr>\n",
       "    <tr>\n",
       "      <th>12</th>\n",
       "      <td>20180807</td>\n",
       "      <td>2018-08-06 20:00:00</td>\n",
       "      <td>0.0</td>\n",
       "      <td>0.0</td>\n",
       "      <td>0</td>\n",
       "      <td>0.0</td>\n",
       "    </tr>\n",
       "    <tr>\n",
       "      <th>13</th>\n",
       "      <td>20180807</td>\n",
       "      <td>2018-08-06 21:00:00</td>\n",
       "      <td>0.5</td>\n",
       "      <td>0.0</td>\n",
       "      <td>0</td>\n",
       "      <td>0.0</td>\n",
       "    </tr>\n",
       "  </tbody>\n",
       "</table>\n",
       "</div>"
      ],
      "text/plain": [
       "    flood_id          flood_date  flood_precip  flood_quant  flood_evapor  \\\n",
       "11  20180807 2018-08-06 19:00:00           0.0          0.0             0   \n",
       "12  20180807 2018-08-06 20:00:00           0.0          0.0             0   \n",
       "13  20180807 2018-08-06 21:00:00           0.5          0.0             0   \n",
       "\n",
       "    simulated_flow  \n",
       "11             0.0  \n",
       "12             0.0  \n",
       "13             0.0  "
      ]
     },
     "execution_count": 20,
     "metadata": {},
     "output_type": "execute_result"
    }
   ],
   "source": [
    "with open('simulated_flow.pickle', 'rb') as f:\n",
    "    simulated_flow = pickle.load(f)\n",
    "\n",
    "flood_p['simulated_flow'] = simulated_flow[0]\n",
    "\n",
    "\n",
    "flood_p['flood_quant'] = flood_p['flood_quant'].astype(float)\n",
    "flood_p['simulated_flow'] = flood_p['simulated_flow'].astype(float)\n",
    "\n",
    "flood_p = flood_p.round({'flood_quant': 1, 'simulated_flow': 1})\n",
    "flood_p[:3]"
   ]
  },
  {
   "cell_type": "code",
   "execution_count": 21,
   "metadata": {},
   "outputs": [
    {
     "data": {
      "image/png": "[encoded data removed]",
      "text/plain": [
       "<Figure size 432x288 with 1 Axes>"
      ]
     },
     "metadata": {
      "needs_background": "light"
     },
     "output_type": "display_data"
    }
   ],
   "source": [
    "plt.plot(flood_p['flood_date'], flood_p['flood_quant'])\n",
    "plt.plot(flood_p['flood_date'], flood_p['simulated_flow'])\n",
    "plt.legend()\n",
    "plt.grid(True)\n",
    "plt.show()"
   ]
  },
  {
   "cell_type": "code",
   "execution_count": 310,
   "metadata": {},
   "outputs": [
    {
     "data": {
      "text/html": [
       "<div>\n",
       "<style scoped>\n",
       "    .dataframe tbody tr th:only-of-type {\n",
       "        vertical-align: middle;\n",
       "    }\n",
       "\n",
       "    .dataframe tbody tr th {\n",
       "        vertical-align: top;\n",
       "    }\n",
       "\n",
       "    .dataframe thead th {\n",
       "        text-align: right;\n",
       "    }\n",
       "</style>\n",
       "<table border=\"1\" class=\"dataframe\">\n",
       "  <thead>\n",
       "    <tr style=\"text-align: right;\">\n",
       "      <th></th>\n",
       "      <th>flood_id</th>\n",
       "      <th>flood_date</th>\n",
       "      <th>flood_precip</th>\n",
       "      <th>flood_quant</th>\n",
       "      <th>flood_evapor</th>\n",
       "      <th>simulated_flow</th>\n",
       "    </tr>\n",
       "  </thead>\n",
       "  <tbody>\n",
       "    <tr>\n",
       "      <th>11</th>\n",
       "      <td>20180807</td>\n",
       "      <td>2018-08-06 19:00:00</td>\n",
       "      <td>0.0</td>\n",
       "      <td>0.0</td>\n",
       "      <td>0</td>\n",
       "      <td>0.0</td>\n",
       "    </tr>\n",
       "    <tr>\n",
       "      <th>12</th>\n",
       "      <td>20180807</td>\n",
       "      <td>2018-08-06 20:00:00</td>\n",
       "      <td>0.0</td>\n",
       "      <td>0.0</td>\n",
       "      <td>0</td>\n",
       "      <td>0.0</td>\n",
       "    </tr>\n",
       "    <tr>\n",
       "      <th>13</th>\n",
       "      <td>20180807</td>\n",
       "      <td>2018-08-06 21:00:00</td>\n",
       "      <td>0.5</td>\n",
       "      <td>0.0</td>\n",
       "      <td>0</td>\n",
       "      <td>0.0</td>\n",
       "    </tr>\n",
       "    <tr>\n",
       "      <th>14</th>\n",
       "      <td>20180807</td>\n",
       "      <td>2018-08-06 22:00:00</td>\n",
       "      <td>0.0</td>\n",
       "      <td>0.0</td>\n",
       "      <td>0</td>\n",
       "      <td>2.0</td>\n",
       "    </tr>\n",
       "    <tr>\n",
       "      <th>15</th>\n",
       "      <td>20180807</td>\n",
       "      <td>2018-08-06 23:00:00</td>\n",
       "      <td>1.2</td>\n",
       "      <td>0.0</td>\n",
       "      <td>0</td>\n",
       "      <td>1.2</td>\n",
       "    </tr>\n",
       "    <tr>\n",
       "      <th>16</th>\n",
       "      <td>20180807</td>\n",
       "      <td>2018-08-07 00:00:00</td>\n",
       "      <td>0.7</td>\n",
       "      <td>0.0</td>\n",
       "      <td>0</td>\n",
       "      <td>5.5</td>\n",
       "    </tr>\n",
       "    <tr>\n",
       "      <th>17</th>\n",
       "      <td>20180807</td>\n",
       "      <td>2018-08-07 01:00:00</td>\n",
       "      <td>7.2</td>\n",
       "      <td>0.0</td>\n",
       "      <td>0</td>\n",
       "      <td>6.2</td>\n",
       "    </tr>\n",
       "    <tr>\n",
       "      <th>18</th>\n",
       "      <td>20180807</td>\n",
       "      <td>2018-08-07 02:00:00</td>\n",
       "      <td>3.4</td>\n",
       "      <td>0.0</td>\n",
       "      <td>0</td>\n",
       "      <td>24.6</td>\n",
       "    </tr>\n",
       "    <tr>\n",
       "      <th>19</th>\n",
       "      <td>20180807</td>\n",
       "      <td>2018-08-07 03:00:00</td>\n",
       "      <td>15.6</td>\n",
       "      <td>0.0</td>\n",
       "      <td>0</td>\n",
       "      <td>29.7</td>\n",
       "    </tr>\n",
       "    <tr>\n",
       "      <th>20</th>\n",
       "      <td>20180807</td>\n",
       "      <td>2018-08-07 04:00:00</td>\n",
       "      <td>36.9</td>\n",
       "      <td>53.8</td>\n",
       "      <td>0</td>\n",
       "      <td>55.5</td>\n",
       "    </tr>\n",
       "    <tr>\n",
       "      <th>21</th>\n",
       "      <td>20180807</td>\n",
       "      <td>2018-08-07 05:00:00</td>\n",
       "      <td>50.9</td>\n",
       "      <td>557.8</td>\n",
       "      <td>0</td>\n",
       "      <td>113.7</td>\n",
       "    </tr>\n",
       "    <tr>\n",
       "      <th>22</th>\n",
       "      <td>20180807</td>\n",
       "      <td>2018-08-07 06:00:00</td>\n",
       "      <td>7.3</td>\n",
       "      <td>1041.6</td>\n",
       "      <td>0</td>\n",
       "      <td>192.3</td>\n",
       "    </tr>\n",
       "    <tr>\n",
       "      <th>23</th>\n",
       "      <td>20180807</td>\n",
       "      <td>2018-08-07 07:00:00</td>\n",
       "      <td>5.2</td>\n",
       "      <td>577.7</td>\n",
       "      <td>0</td>\n",
       "      <td>479.7</td>\n",
       "    </tr>\n",
       "    <tr>\n",
       "      <th>24</th>\n",
       "      <td>20180807</td>\n",
       "      <td>2018-08-07 08:00:00</td>\n",
       "      <td>3.3</td>\n",
       "      <td>445.5</td>\n",
       "      <td>0</td>\n",
       "      <td>555.3</td>\n",
       "    </tr>\n",
       "    <tr>\n",
       "      <th>25</th>\n",
       "      <td>20180807</td>\n",
       "      <td>2018-08-07 09:00:00</td>\n",
       "      <td>1.3</td>\n",
       "      <td>450.2</td>\n",
       "      <td>0</td>\n",
       "      <td>499.0</td>\n",
       "    </tr>\n",
       "    <tr>\n",
       "      <th>26</th>\n",
       "      <td>20180807</td>\n",
       "      <td>2018-08-07 10:00:00</td>\n",
       "      <td>0.3</td>\n",
       "      <td>492.7</td>\n",
       "      <td>0</td>\n",
       "      <td>360.6</td>\n",
       "    </tr>\n",
       "    <tr>\n",
       "      <th>27</th>\n",
       "      <td>20180807</td>\n",
       "      <td>2018-08-07 11:00:00</td>\n",
       "      <td>0.0</td>\n",
       "      <td>457.3</td>\n",
       "      <td>0</td>\n",
       "      <td>227.2</td>\n",
       "    </tr>\n",
       "    <tr>\n",
       "      <th>28</th>\n",
       "      <td>20180807</td>\n",
       "      <td>2018-08-07 12:00:00</td>\n",
       "      <td>0.0</td>\n",
       "      <td>341.3</td>\n",
       "      <td>0</td>\n",
       "      <td>134.6</td>\n",
       "    </tr>\n",
       "    <tr>\n",
       "      <th>29</th>\n",
       "      <td>20180807</td>\n",
       "      <td>2018-08-07 13:00:00</td>\n",
       "      <td>4.0</td>\n",
       "      <td>246.1</td>\n",
       "      <td>0</td>\n",
       "      <td>82.8</td>\n",
       "    </tr>\n",
       "    <tr>\n",
       "      <th>30</th>\n",
       "      <td>20180807</td>\n",
       "      <td>2018-08-07 14:00:00</td>\n",
       "      <td>1.3</td>\n",
       "      <td>157.5</td>\n",
       "      <td>0</td>\n",
       "      <td>256.7</td>\n",
       "    </tr>\n",
       "    <tr>\n",
       "      <th>31</th>\n",
       "      <td>20180807</td>\n",
       "      <td>2018-08-07 15:00:00</td>\n",
       "      <td>2.0</td>\n",
       "      <td>105.6</td>\n",
       "      <td>0</td>\n",
       "      <td>221.9</td>\n",
       "    </tr>\n",
       "    <tr>\n",
       "      <th>32</th>\n",
       "      <td>20180807</td>\n",
       "      <td>2018-08-07 16:00:00</td>\n",
       "      <td>0.7</td>\n",
       "      <td>60.4</td>\n",
       "      <td>0</td>\n",
       "      <td>236.1</td>\n",
       "    </tr>\n",
       "    <tr>\n",
       "      <th>33</th>\n",
       "      <td>20180807</td>\n",
       "      <td>2018-08-07 17:00:00</td>\n",
       "      <td>0.3</td>\n",
       "      <td>28.5</td>\n",
       "      <td>0</td>\n",
       "      <td>176.9</td>\n",
       "    </tr>\n",
       "    <tr>\n",
       "      <th>34</th>\n",
       "      <td>20180807</td>\n",
       "      <td>2018-08-07 18:00:00</td>\n",
       "      <td>1.3</td>\n",
       "      <td>0.0</td>\n",
       "      <td>0</td>\n",
       "      <td>121.5</td>\n",
       "    </tr>\n",
       "    <tr>\n",
       "      <th>35</th>\n",
       "      <td>20180807</td>\n",
       "      <td>2018-08-07 19:00:00</td>\n",
       "      <td>0.8</td>\n",
       "      <td>0.0</td>\n",
       "      <td>0</td>\n",
       "      <td>141.0</td>\n",
       "    </tr>\n",
       "    <tr>\n",
       "      <th>36</th>\n",
       "      <td>20180807</td>\n",
       "      <td>2018-08-07 20:00:00</td>\n",
       "      <td>0.0</td>\n",
       "      <td>0.0</td>\n",
       "      <td>0</td>\n",
       "      <td>126.5</td>\n",
       "    </tr>\n",
       "    <tr>\n",
       "      <th>37</th>\n",
       "      <td>20180807</td>\n",
       "      <td>2018-08-07 21:00:00</td>\n",
       "      <td>0.0</td>\n",
       "      <td>0.0</td>\n",
       "      <td>0</td>\n",
       "      <td>76.9</td>\n",
       "    </tr>\n",
       "    <tr>\n",
       "      <th>38</th>\n",
       "      <td>20180807</td>\n",
       "      <td>2018-08-07 22:00:00</td>\n",
       "      <td>0.0</td>\n",
       "      <td>0.0</td>\n",
       "      <td>0</td>\n",
       "      <td>47.6</td>\n",
       "    </tr>\n",
       "    <tr>\n",
       "      <th>39</th>\n",
       "      <td>20180807</td>\n",
       "      <td>2018-08-07 23:00:00</td>\n",
       "      <td>0.0</td>\n",
       "      <td>0.0</td>\n",
       "      <td>0</td>\n",
       "      <td>30.5</td>\n",
       "    </tr>\n",
       "    <tr>\n",
       "      <th>40</th>\n",
       "      <td>20180807</td>\n",
       "      <td>2018-08-08 00:00:00</td>\n",
       "      <td>0.0</td>\n",
       "      <td>0.0</td>\n",
       "      <td>0</td>\n",
       "      <td>20.5</td>\n",
       "    </tr>\n",
       "    <tr>\n",
       "      <th>41</th>\n",
       "      <td>20180807</td>\n",
       "      <td>2018-08-08 01:00:00</td>\n",
       "      <td>0.0</td>\n",
       "      <td>0.0</td>\n",
       "      <td>0</td>\n",
       "      <td>14.5</td>\n",
       "    </tr>\n",
       "    <tr>\n",
       "      <th>42</th>\n",
       "      <td>20180807</td>\n",
       "      <td>2018-08-08 02:00:00</td>\n",
       "      <td>0.0</td>\n",
       "      <td>0.0</td>\n",
       "      <td>0</td>\n",
       "      <td>10.8</td>\n",
       "    </tr>\n",
       "    <tr>\n",
       "      <th>43</th>\n",
       "      <td>20180807</td>\n",
       "      <td>2018-08-08 03:00:00</td>\n",
       "      <td>0.0</td>\n",
       "      <td>0.0</td>\n",
       "      <td>0</td>\n",
       "      <td>8.4</td>\n",
       "    </tr>\n",
       "    <tr>\n",
       "      <th>44</th>\n",
       "      <td>20180807</td>\n",
       "      <td>2018-08-08 04:00:00</td>\n",
       "      <td>0.0</td>\n",
       "      <td>0.0</td>\n",
       "      <td>0</td>\n",
       "      <td>6.9</td>\n",
       "    </tr>\n",
       "    <tr>\n",
       "      <th>45</th>\n",
       "      <td>20180807</td>\n",
       "      <td>2018-08-08 05:00:00</td>\n",
       "      <td>0.0</td>\n",
       "      <td>0.0</td>\n",
       "      <td>0</td>\n",
       "      <td>5.7</td>\n",
       "    </tr>\n",
       "    <tr>\n",
       "      <th>46</th>\n",
       "      <td>20180807</td>\n",
       "      <td>2018-08-08 06:00:00</td>\n",
       "      <td>0.0</td>\n",
       "      <td>0.0</td>\n",
       "      <td>0</td>\n",
       "      <td>4.9</td>\n",
       "    </tr>\n",
       "    <tr>\n",
       "      <th>47</th>\n",
       "      <td>20180807</td>\n",
       "      <td>2018-08-08 07:00:00</td>\n",
       "      <td>0.0</td>\n",
       "      <td>0.0</td>\n",
       "      <td>0</td>\n",
       "      <td>4.1</td>\n",
       "    </tr>\n",
       "    <tr>\n",
       "      <th>48</th>\n",
       "      <td>20180807</td>\n",
       "      <td>2018-08-08 08:00:00</td>\n",
       "      <td>0.0</td>\n",
       "      <td>0.0</td>\n",
       "      <td>0</td>\n",
       "      <td>3.5</td>\n",
       "    </tr>\n",
       "    <tr>\n",
       "      <th>49</th>\n",
       "      <td>20180807</td>\n",
       "      <td>2018-08-08 09:00:00</td>\n",
       "      <td>0.0</td>\n",
       "      <td>0.0</td>\n",
       "      <td>0</td>\n",
       "      <td>2.8</td>\n",
       "    </tr>\n",
       "    <tr>\n",
       "      <th>50</th>\n",
       "      <td>20180807</td>\n",
       "      <td>2018-08-08 10:00:00</td>\n",
       "      <td>0.0</td>\n",
       "      <td>0.0</td>\n",
       "      <td>0</td>\n",
       "      <td>2.3</td>\n",
       "    </tr>\n",
       "    <tr>\n",
       "      <th>51</th>\n",
       "      <td>20180807</td>\n",
       "      <td>2018-08-08 11:00:00</td>\n",
       "      <td>0.0</td>\n",
       "      <td>0.0</td>\n",
       "      <td>0</td>\n",
       "      <td>1.8</td>\n",
       "    </tr>\n",
       "    <tr>\n",
       "      <th>52</th>\n",
       "      <td>20180807</td>\n",
       "      <td>2018-08-08 12:00:00</td>\n",
       "      <td>0.0</td>\n",
       "      <td>0.0</td>\n",
       "      <td>0</td>\n",
       "      <td>1.3</td>\n",
       "    </tr>\n",
       "    <tr>\n",
       "      <th>53</th>\n",
       "      <td>20180807</td>\n",
       "      <td>2018-08-08 13:00:00</td>\n",
       "      <td>0.0</td>\n",
       "      <td>0.0</td>\n",
       "      <td>0</td>\n",
       "      <td>1.0</td>\n",
       "    </tr>\n",
       "    <tr>\n",
       "      <th>54</th>\n",
       "      <td>20180807</td>\n",
       "      <td>2018-08-08 14:00:00</td>\n",
       "      <td>0.0</td>\n",
       "      <td>0.0</td>\n",
       "      <td>0</td>\n",
       "      <td>0.7</td>\n",
       "    </tr>\n",
       "  </tbody>\n",
       "</table>\n",
       "</div>"
      ],
      "text/plain": [
       "    flood_id          flood_date  flood_precip  flood_quant  flood_evapor  \\\n",
       "11  20180807 2018-08-06 19:00:00           0.0          0.0             0   \n",
       "12  20180807 2018-08-06 20:00:00           0.0          0.0             0   \n",
       "13  20180807 2018-08-06 21:00:00           0.5          0.0             0   \n",
       "14  20180807 2018-08-06 22:00:00           0.0          0.0             0   \n",
       "15  20180807 2018-08-06 23:00:00           1.2          0.0             0   \n",
       "16  20180807 2018-08-07 00:00:00           0.7          0.0             0   \n",
       "17  20180807 2018-08-07 01:00:00           7.2          0.0             0   \n",
       "18  20180807 2018-08-07 02:00:00           3.4          0.0             0   \n",
       "19  20180807 2018-08-07 03:00:00          15.6          0.0             0   \n",
       "20  20180807 2018-08-07 04:00:00          36.9         53.8             0   \n",
       "21  20180807 2018-08-07 05:00:00          50.9        557.8             0   \n",
       "22  20180807 2018-08-07 06:00:00           7.3       1041.6             0   \n",
       "23  20180807 2018-08-07 07:00:00           5.2        577.7             0   \n",
       "24  20180807 2018-08-07 08:00:00           3.3        445.5             0   \n",
       "25  20180807 2018-08-07 09:00:00           1.3        450.2             0   \n",
       "26  20180807 2018-08-07 10:00:00           0.3        492.7             0   \n",
       "27  20180807 2018-08-07 11:00:00           0.0        457.3             0   \n",
       "28  20180807 2018-08-07 12:00:00           0.0        341.3             0   \n",
       "29  20180807 2018-08-07 13:00:00           4.0        246.1             0   \n",
       "30  20180807 2018-08-07 14:00:00           1.3        157.5             0   \n",
       "31  20180807 2018-08-07 15:00:00           2.0        105.6             0   \n",
       "32  20180807 2018-08-07 16:00:00           0.7         60.4             0   \n",
       "33  20180807 2018-08-07 17:00:00           0.3         28.5             0   \n",
       "34  20180807 2018-08-07 18:00:00           1.3          0.0             0   \n",
       "35  20180807 2018-08-07 19:00:00           0.8          0.0             0   \n",
       "36  20180807 2018-08-07 20:00:00           0.0          0.0             0   \n",
       "37  20180807 2018-08-07 21:00:00           0.0          0.0             0   \n",
       "38  20180807 2018-08-07 22:00:00           0.0          0.0             0   \n",
       "39  20180807 2018-08-07 23:00:00           0.0          0.0             0   \n",
       "40  20180807 2018-08-08 00:00:00           0.0          0.0             0   \n",
       "41  20180807 2018-08-08 01:00:00           0.0          0.0             0   \n",
       "42  20180807 2018-08-08 02:00:00           0.0          0.0             0   \n",
       "43  20180807 2018-08-08 03:00:00           0.0          0.0             0   \n",
       "44  20180807 2018-08-08 04:00:00           0.0          0.0             0   \n",
       "45  20180807 2018-08-08 05:00:00           0.0          0.0             0   \n",
       "46  20180807 2018-08-08 06:00:00           0.0          0.0             0   \n",
       "47  20180807 2018-08-08 07:00:00           0.0          0.0             0   \n",
       "48  20180807 2018-08-08 08:00:00           0.0          0.0             0   \n",
       "49  20180807 2018-08-08 09:00:00           0.0          0.0             0   \n",
       "50  20180807 2018-08-08 10:00:00           0.0          0.0             0   \n",
       "51  20180807 2018-08-08 11:00:00           0.0          0.0             0   \n",
       "52  20180807 2018-08-08 12:00:00           0.0          0.0             0   \n",
       "53  20180807 2018-08-08 13:00:00           0.0          0.0             0   \n",
       "54  20180807 2018-08-08 14:00:00           0.0          0.0             0   \n",
       "\n",
       "    simulated_flow  \n",
       "11             0.0  \n",
       "12             0.0  \n",
       "13             0.0  \n",
       "14             2.0  \n",
       "15             1.2  \n",
       "16             5.5  \n",
       "17             6.2  \n",
       "18            24.6  \n",
       "19            29.7  \n",
       "20            55.5  \n",
       "21           113.7  \n",
       "22           192.3  \n",
       "23           479.7  \n",
       "24           555.3  \n",
       "25           499.0  \n",
       "26           360.6  \n",
       "27           227.2  \n",
       "28           134.6  \n",
       "29            82.8  \n",
       "30           256.7  \n",
       "31           221.9  \n",
       "32           236.1  \n",
       "33           176.9  \n",
       "34           121.5  \n",
       "35           141.0  \n",
       "36           126.5  \n",
       "37            76.9  \n",
       "38            47.6  \n",
       "39            30.5  \n",
       "40            20.5  \n",
       "41            14.5  \n",
       "42            10.8  \n",
       "43             8.4  \n",
       "44             6.9  \n",
       "45             5.7  \n",
       "46             4.9  \n",
       "47             4.1  \n",
       "48             3.5  \n",
       "49             2.8  \n",
       "50             2.3  \n",
       "51             1.8  \n",
       "52             1.3  \n",
       "53             1.0  \n",
       "54             0.7  "
      ]
     },
     "execution_count": 310,
     "metadata": {},
     "output_type": "execute_result"
    }
   ],
   "source": [
    "flood_p"
   ]
  },
  {
   "cell_type": "code",
   "execution_count": 18,
   "metadata": {},
   "outputs": [
    {
     "name": "stderr",
     "output_type": "stream",
     "text": [
      "No handles with labels found to put in legend.\n"
     ]
    },
    {
     "data": {
      "image/png": "[encoded data removed]",
      "text/plain": [
       "<Figure size 432x288 with 1 Axes>"
      ]
     },
     "metadata": {},
     "output_type": "display_data"
    }
   ],
   "source": [
    "flood = pd.read_csv('flood.txt', sep='\\t', parse_dates=['flood_date'])\n",
    "\n",
    "with open('simulated_flow.pickle', 'rb') as f:\n",
    "    simulated_flow = pickle.load(f)\n",
    "\n",
    "flood['simulate_flow'] = simulated_flow[0]\n",
    "\n",
    "plt.plot(flood['flood_date'], flood['flood_quant'])\n",
    "plt.plot(flood.flood_date, flood.simulate_flow)\n",
    "plt.legend()\n",
    "plt.show()"
   ]
  },
  {
   "cell_type": "code",
   "execution_count": 30,
   "metadata": {},
   "outputs": [
    {
     "name": "stderr",
     "output_type": "stream",
     "text": [
      "No handles with labels found to put in legend.\n"
     ]
    },
    {
     "data": {
      "image/png": "[encoded data removed]",
      "text/plain": [
       "<Figure size 432x288 with 1 Axes>"
      ]
     },
     "metadata": {},
     "output_type": "display_data"
    }
   ],
   "source": [
    "flood = pd.read_csv('flood.txt', sep='\\t', parse_dates=['flood_date'])\n",
    "\n",
    "with open('simulated_flow.pickle', 'rb') as f:\n",
    "    simulated_flow = pickle.load(f)\n",
    "\n",
    "flood['simulate_flow'] = simulated_flow[0]\n",
    "\n",
    "plt.plot(flood['flood_date'], flood['flood_quant'])\n",
    "plt.plot(flood.flood_date, flood.simulate_flow)\n",
    "plt.legend()\n",
    "plt.show()"
   ]
  },
  {
   "cell_type": "code",
   "execution_count": 36,
   "metadata": {},
   "outputs": [
    {
     "name": "stderr",
     "output_type": "stream",
     "text": [
      "No handles with labels found to put in legend.\n"
     ]
    },
    {
     "data": {
      "image/png": "[encoded data removed]",
      "text/plain": [
       "<Figure size 432x288 with 1 Axes>"
      ]
     },
     "metadata": {},
     "output_type": "display_data"
    }
   ],
   "source": [
    "flood = pd.read_csv('flood.txt', sep='\\t', parse_dates=['flood_date'])\n",
    "\n",
    "with open('simulated_flow.pickle', 'rb') as f:\n",
    "    simulated_flow = pickle.load(f)\n",
    "\n",
    "flood['simulate_flow'] = simulated_flow[0]\n",
    "\n",
    "plt.plot(flood['flood_date'], flood['flood_quant'])\n",
    "plt.plot(flood.flood_date, flood.simulate_flow)\n",
    "plt.legend()\n",
    "plt.show()"
   ]
  },
  {
   "cell_type": "markdown",
   "metadata": {},
   "source": [
    "### 4. 参数率定"
   ]
  },
  {
   "cell_type": "code",
   "execution_count": 32,
   "metadata": {},
   "outputs": [],
   "source": [
    "with open('optimal_params', 'rb') as f:\n",
    "    optimal_params = pickle.load(f)\n",
    "\n",
    "with open('xaj_params.pickle', 'rb') as f:\n",
    "    xaj_params_1 = pickle.load(f)"
   ]
  },
  {
   "cell_type": "code",
   "execution_count": 33,
   "metadata": {},
   "outputs": [
    {
     "data": {
      "text/plain": [
       "[0.9066705795725403,\n",
       " 12.564727056934904,\n",
       " 68.66895657291167,\n",
       " 0.19740372215321428,\n",
       " 137.196361710203,\n",
       " 0.3164611864485325,\n",
       " 0.01071852837428263,\n",
       " 1.231273275649647,\n",
       " 1.1120431860010427,\n",
       " 0.7996515574112859,\n",
       " 0.9922475149215669,\n",
       " 0.8210713682031088,\n",
       " 0.3165578672418067,\n",
       " 0.7658281632037084,\n",
       " 0.05534309646128027]"
      ]
     },
     "execution_count": 33,
     "metadata": {},
     "output_type": "execute_result"
    }
   ],
   "source": [
    "optimal_params[0]"
   ]
  },
  {
   "cell_type": "code",
   "execution_count": 35,
   "metadata": {},
   "outputs": [
    {
     "data": {
      "text/plain": [
       "K         0.477\n",
       "WUM      14.135\n",
       "WLM      89.453\n",
       "C         0.131\n",
       "WM      142.912\n",
       "B         0.161\n",
       "IMP       0.025\n",
       "SM       28.736\n",
       "EX        1.413\n",
       "KSS       0.023\n",
       "KKSS      0.097\n",
       "KKG       0.987\n",
       "CR        0.544\n",
       "L         0.154\n",
       "XE        0.180\n",
       "KE        1.001\n",
       "dtype: float64"
      ]
     },
     "execution_count": 35,
     "metadata": {},
     "output_type": "execute_result"
    }
   ],
   "source": [
    "xaj_params_1"
   ]
  },
  {
   "cell_type": "code",
   "execution_count": 301,
   "metadata": {},
   "outputs": [
    {
     "data": {
      "text/plain": [
       "K         1.261\n",
       "WUM      12.644\n",
       "WLM      65.948\n",
       "C         0.173\n",
       "WM      190.880\n",
       "B         0.354\n",
       "IMP       0.038\n",
       "SM        1.156\n",
       "EX        1.285\n",
       "KSS       0.474\n",
       "KKSS      0.850\n",
       "KKG       0.756\n",
       "CR        0.516\n",
       "L         0.942\n",
       "XE        0.310\n",
       "KE        1.001\n",
       "dtype: float64"
      ]
     },
     "execution_count": 301,
     "metadata": {},
     "output_type": "execute_result"
    }
   ],
   "source": [
    "x1[:15] = optimal_params[0]\n",
    "x1.round(3)"
   ]
  },
  {
   "cell_type": "code",
   "execution_count": 288,
   "metadata": {},
   "outputs": [
    {
     "data": {
      "text/plain": [
       "K         0.998\n",
       "WUM      27.764\n",
       "WLM      84.393\n",
       "C         0.200\n",
       "WM      182.515\n",
       "B         0.400\n",
       "IMP       0.040\n",
       "SM       51.634\n",
       "EX        1.002\n",
       "KSS       0.379\n",
       "KKSS      0.986\n",
       "KKG       0.284\n",
       "CR        0.766\n",
       "L         1.791\n",
       "XE        0.029\n",
       "KE        1.001\n",
       "dtype: float64"
      ]
     },
     "execution_count": 288,
     "metadata": {},
     "output_type": "execute_result"
    }
   ],
   "source": [
    "xaj_params"
   ]
  }
 ],
 "metadata": {
  "kernelspec": {
   "display_name": "Python 3",
   "language": "python",
   "name": "python3"
  },
  "language_info": {
   "codemirror_mode": {
    "name": "ipython",
    "version": 3
   },
   "file_extension": ".py",
   "mimetype": "text/x-python",
   "name": "python",
   "nbconvert_exporter": "python",
   "pygments_lexer": "ipython3",
   "version": "3.7.4"
  }
 },
 "nbformat": 4,
 "nbformat_minor": 4
}
